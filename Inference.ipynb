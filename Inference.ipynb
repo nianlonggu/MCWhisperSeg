{
 "cells": [
  {
   "cell_type": "code",
   "execution_count": 1,
   "id": "2bac4995-71dc-444b-9d56-60f86537ba1a",
   "metadata": {},
   "outputs": [],
   "source": [
    "from audio_utils import SpecViewer\n",
    "import librosa\n",
    "import numpy as np\n",
    "from glob import glob\n",
    "import json\n",
    "from model import MultiChannelWhisperSeg"
   ]
  },
  {
   "cell_type": "code",
   "execution_count": 2,
   "id": "9510e750-d018-4bb3-baef-2c48bf49a96d",
   "metadata": {},
   "outputs": [
    {
     "name": "stderr",
     "output_type": "stream",
     "text": [
      "Special tokens have been added in the vocabulary, make sure the associated word embeddings are fine-tuned or trained.\n"
     ]
    }
   ],
   "source": [
    "mc_segmenter = MultiChannelWhisperSeg( \"model/mc-whisperseg-zebra-finch/final_checkpoint_ct2/\", device=\"cuda\" )"
   ]
  },
  {
   "cell_type": "code",
   "execution_count": 10,
   "id": "d6369410-735f-4eb5-afb0-0125205da827",
   "metadata": {},
   "outputs": [
    {
     "name": "stdout",
     "output_type": "stream",
     "text": [
      "Segmenting radio channel 0 [■■■■■■■■■■■■■■■■■■■■■■■■■■■■■■■■■■■■■■■■■■■■■■■---] 95.00%\n",
      "Segmenting radio channel 1 [■■■■■■■■■■■■■■■■■■■■■■■■■■■■■■■■■■■■■■■■■■■■■■■---] 95.00%\n",
      "Segmenting radio channel 2 [■■■■■■■■■■■■■■■■■■■■■■■■■■■■■■■■■■■■■■■■■■■■■■■---] 95.00%\n",
      "Segmenting radio channel 3 [■■■■■■■■■■■■■■■■■■■■■■■■■■■■■■■■■■■■■■■■■■■■■■■---] 95.00%\n",
      "Segmenting radio channel 4 [■■■■■■■■■■■■■■■■■■■■■■■■■■■■■■■■■■■■■■■■■■■■■■■---] 95.00%\n",
      "Segmenting radio channel 5 [■■■■■■■■■■■■■■■■■■■■■■■■■■■■■■■■■■■■■■■■■■■■■■■---] 95.00%\n",
      "Segmenting radio channel 6 [■■■■■■■■■■■■■■■■■■■■■■■■■■■■■■■■■■■■■■■■■■■■■■■---] 95.00%\n",
      "Segmenting radio channel 7 [■■■■■■■■■■■■■■■■■■■■■■■■■■■■■■■■■■■■■■■■■■■■■■■---] 95.00%\n"
     ]
    }
   ],
   "source": [
    "sr = 16000\n",
    "test_mc_audio, _ = librosa.load(\"data/example_subset/8bird_data/test/BP_2022-09-17_08-12-52_692166_0380000_allchannels_test.wav\", sr = sr, mono = False)\n",
    "\n",
    "radio_channels = test_mc_audio[:8]\n",
    "mic_channels = test_mc_audio[8:9]  ## here we only use the 9th channel in the original 13-channel audio\n",
    "\n",
    "predictions = mc_segmenter.segment( radio_channels, mic_channels, sr,\n",
    "                      ## the following parameters are optimized for multi-channel zebra finch segmentation\n",
    "                      min_frequency = 0,\n",
    "                      spec_time_step = 0.0025,\n",
    "                      min_segment_length = 0.005,\n",
    "                      eps = 0.02,\n",
    "                      num_trials = 1\n",
    "                    )"
   ]
  },
  {
   "cell_type": "markdown",
   "id": "14e26a67-e7c9-49eb-9536-d24ba05bf275",
   "metadata": {},
   "source": [
    "## Visualize the segmentation results"
   ]
  },
  {
   "cell_type": "code",
   "execution_count": 14,
   "id": "31b2c4bf-9726-420d-b7eb-d7639323175c",
   "metadata": {},
   "outputs": [],
   "source": [
    "spec_viewer = SpecViewer()"
   ]
  },
  {
   "cell_type": "code",
   "execution_count": 29,
   "id": "1b9ce9ca-397e-4488-af1d-1fbcf14146f2",
   "metadata": {},
   "outputs": [
    {
     "data": {
      "application/vnd.jupyter.widget-view+json": {
       "model_id": "78ad4c4be74443c1965845fe68ec5702",
       "version_major": 2,
       "version_minor": 0
      },
      "text/plain": [
       "interactive(children=(FloatSlider(value=117.0, description='offset', max=234.4304375, step=0.25), Output()), _…"
      ]
     },
     "metadata": {},
     "output_type": "display_data"
    },
    {
     "data": {
      "text/plain": [
       "<function ipywidgets.widgets.interaction._InteractFactory.__call__.<locals>.<lambda>(*args, **kwargs)>"
      ]
     },
     "execution_count": 29,
     "metadata": {},
     "output_type": "execute_result"
    }
   ],
   "source": [
    "## check the segmentation results of the first radio channel\n",
    "radio_channel_idx = 0\n",
    "spec_viewer.visualize(\n",
    "    test_mc_audio[radio_channel_idx:radio_channel_idx+1],\n",
    "    sr = sr,\n",
    "    prediction= predictions[radio_channel_idx],\n",
    ")"
   ]
  },
  {
   "cell_type": "code",
   "execution_count": null,
   "id": "282a2a8c-7ebd-4be5-8ada-a099fb0de7d1",
   "metadata": {},
   "outputs": [],
   "source": []
  }
 ],
 "metadata": {
  "kernelspec": {
   "display_name": "Python [conda env:mc-wseg]",
   "language": "python",
   "name": "conda-env-mc-wseg-py"
  },
  "language_info": {
   "codemirror_mode": {
    "name": "ipython",
    "version": 3
   },
   "file_extension": ".py",
   "mimetype": "text/x-python",
   "name": "python",
   "nbconvert_exporter": "python",
   "pygments_lexer": "ipython3",
   "version": "3.10.16"
  }
 },
 "nbformat": 4,
 "nbformat_minor": 5
}
