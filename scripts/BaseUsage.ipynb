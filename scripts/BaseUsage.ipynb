{
 "cells": [
  {
   "cell_type": "code",
   "execution_count": null,
   "id": "09bedaa3-5ce5-4335-a39e-1a6b444c399c",
   "metadata": {},
   "outputs": [],
   "source": [
    "from model import WhisperSegmenter, WhisperSegmenterFast\n",
    "from audio_utils import SpecViewer\n",
    "import librosa\n",
    "import numpy as np\n",
    "import json\n",
    "\n",
    "spec_viewer = SpecViewer()\n",
    "segmenter = WhisperSegmenterFast(  model_path = \"model/mc-whisperseg-example/final_checkpoint_ct2/\", \n",
    "                                   device=\"cuda\", device_ids = [0] )\n",
    "\n",
    "channel_audio_fnames = [ \n",
    "    \"data/example_subset/zebra_finch_train_and_test/test/audio_count_2_channel_1.wav\",\n",
    "    \"data/example_subset/zebra_finch_train_and_test/test/audio_count_2_channel_2.wav\",\n",
    "    \"data/example_subset/zebra_finch_train_and_test/test/audio_count_2_channel_3.wav\"\n",
    "]\n",
    "\n",
    "sr = 16000\n",
    "audio_channels = [ librosa.load( fname, sr = sr )[0] for fname in channel_audio_fnames ]\n",
    "audio = np.asarray( audio_channels )\n",
    "print(audio.shape)\n",
    "\n",
    "prediction = segmenter.segment(  audio, sr = sr)\n",
    "spec_viewer.visualize( audio, sr, \n",
    "                       audio_channel_names=[\"1\",\"2\",\"3\"], \n",
    "                       prediction = prediction\n",
    "                     )"
   ]
  },
  {
   "cell_type": "code",
   "execution_count": null,
   "id": "a6a9df35-36f3-4d67-aa3e-d282e4559552",
   "metadata": {},
   "outputs": [],
   "source": []
  }
 ],
 "metadata": {
  "kernelspec": {
   "display_name": "Python [conda env:mc-wseg]",
   "language": "python",
   "name": "conda-env-mc-wseg-py"
  },
  "language_info": {
   "codemirror_mode": {
    "name": "ipython",
    "version": 3
   },
   "file_extension": ".py",
   "mimetype": "text/x-python",
   "name": "python",
   "nbconvert_exporter": "python",
   "pygments_lexer": "ipython3",
   "version": "3.10.16"
  }
 },
 "nbformat": 4,
 "nbformat_minor": 5
}
