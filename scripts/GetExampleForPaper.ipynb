{
 "cells": [
  {
   "cell_type": "code",
   "execution_count": 2,
   "id": "49ffdfb7-9d76-4a60-a358-d706bc599b7b",
   "metadata": {
    "tags": []
   },
   "outputs": [],
   "source": [
    "import sys, os\n",
    "# os.environ[\"CUDA_VISIBLE_DEVICES\"] = \"1\"\n",
    "sys.path.insert(0, os.path.dirname(os.getcwd()))"
   ]
  },
  {
   "cell_type": "code",
   "execution_count": 3,
   "id": "87dc75cb-300d-4dc0-8fcc-5b6bb8955700",
   "metadata": {},
   "outputs": [],
   "source": [
    "from audio_utils import SpecViewer\n",
    "import librosa\n",
    "import numpy as np\n",
    "from glob import glob\n",
    "import json"
   ]
  },
  {
   "cell_type": "code",
   "execution_count": 4,
   "id": "2c38bf38-ecec-4101-aaa0-0010ee6535e2",
   "metadata": {},
   "outputs": [],
   "source": [
    "spec_viewer = SpecViewer()"
   ]
  },
  {
   "cell_type": "code",
   "execution_count": 25,
   "id": "53bddb76-0f63-4583-8157-f40e98a7ed3e",
   "metadata": {},
   "outputs": [],
   "source": [
    "sr = 16000\n",
    "base_fname = \"../data/datasets/zebra_finch_full/test/BP_2021-05-21_11-42-34_304558_0980000_radio1_as_target\"\n",
    "\n",
    "radio_fname_list = [ \n",
    "     base_fname + \"_channel_1.wav\",\n",
    "     base_fname + \"_channel_2.wav\"\n",
    "]\n",
    "mic_fname_list = [\n",
    "     base_fname + \"_channel_3.wav\"\n",
    "]"
   ]
  },
  {
   "cell_type": "code",
   "execution_count": 26,
   "id": "bea36927-6228-45fc-9524-1e18d830d116",
   "metadata": {},
   "outputs": [],
   "source": [
    "radio_channels = [ librosa.load( fname, sr = sr )[0] for fname in radio_fname_list ]\n",
    "mic_channels = [ librosa.load( fname, sr = sr )[0] for fname in mic_fname_list ]"
   ]
  },
  {
   "cell_type": "code",
   "execution_count": 27,
   "id": "776558e6-7ab3-4cbf-85b4-8976cc7ec4bb",
   "metadata": {},
   "outputs": [],
   "source": [
    "label = json.load( open( base_fname + \"_channel_1.json\", ) )"
   ]
  },
  {
   "cell_type": "code",
   "execution_count": 28,
   "id": "81627a96-3b70-4dc0-b626-08b35139efcc",
   "metadata": {},
   "outputs": [
    {
     "data": {
      "application/vnd.jupyter.widget-view+json": {
       "model_id": "344e920c1d1f496da768db2a6e09b113",
       "version_major": 2,
       "version_minor": 0
      },
      "text/plain": [
       "interactive(children=(FloatSlider(value=208.375, description='offset', max=416.9304375, step=0.125), Output())…"
      ]
     },
     "metadata": {},
     "output_type": "display_data"
    },
    {
     "data": {
      "text/plain": [
       "<function ipywidgets.widgets.interaction._InteractFactory.__call__.<locals>.<lambda>(*args, **kwargs)>"
      ]
     },
     "execution_count": 28,
     "metadata": {},
     "output_type": "execute_result"
    }
   ],
   "source": [
    "spec_viewer.visualize(\n",
    "    np.flip(np.asarray([ radio_channels[0], radio_channels[1], mic_channels[0] ]), axis = 0),\n",
    "    sr = sr,\n",
    "    label=label,\n",
    "    window_size = 2.5\n",
    ")"
   ]
  },
  {
   "cell_type": "code",
   "execution_count": null,
   "id": "d35e35ec-df0d-4c9c-a84d-19e17b9874ad",
   "metadata": {},
   "outputs": [],
   "source": []
  }
 ],
 "metadata": {
  "kernelspec": {
   "display_name": "Python [conda env:wseg]",
   "language": "python",
   "name": "conda-env-wseg-py"
  },
  "language_info": {
   "codemirror_mode": {
    "name": "ipython",
    "version": 3
   },
   "file_extension": ".py",
   "mimetype": "text/x-python",
   "name": "python",
   "nbconvert_exporter": "python",
   "pygments_lexer": "ipython3",
   "version": "3.10.14"
  }
 },
 "nbformat": 4,
 "nbformat_minor": 5
}
